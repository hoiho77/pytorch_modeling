{
 "cells": [
  {
   "cell_type": "code",
   "execution_count": 1,
   "metadata": {
    "collapsed": true
   },
   "outputs": [
    {
     "ename": "ImportError",
     "evalue": "numpy.core.multiarray failed to import",
     "output_type": "error",
     "traceback": [
      "\u001B[1;31m---------------------------------------------------------------------------\u001B[0m",
      "\u001B[1;31mImportError\u001B[0m                               Traceback (most recent call last)",
      "\u001B[1;32m<ipython-input-1-1828e7079882>\u001B[0m in \u001B[0;36m<module>\u001B[1;34m\u001B[0m\n\u001B[0;32m      1\u001B[0m \u001B[1;31m#스칼라\u001B[0m\u001B[1;33m\u001B[0m\u001B[1;33m\u001B[0m\u001B[1;33m\u001B[0m\u001B[0m\n\u001B[1;32m----> 2\u001B[1;33m \u001B[1;32mimport\u001B[0m \u001B[0mtorch\u001B[0m\u001B[1;33m\u001B[0m\u001B[1;33m\u001B[0m\u001B[0m\n\u001B[0m\u001B[0;32m      3\u001B[0m \u001B[1;33m\u001B[0m\u001B[0m\n\u001B[0;32m      4\u001B[0m \u001B[0ms1\u001B[0m \u001B[1;33m=\u001B[0m \u001B[0mtorch\u001B[0m\u001B[1;33m.\u001B[0m\u001B[0mtensor\u001B[0m\u001B[1;33m(\u001B[0m\u001B[1;33m[\u001B[0m\u001B[1;36m1.\u001B[0m\u001B[1;33m]\u001B[0m\u001B[1;33m)\u001B[0m\u001B[1;33m\u001B[0m\u001B[1;33m\u001B[0m\u001B[0m\n\u001B[0;32m      5\u001B[0m \u001B[0mprint\u001B[0m\u001B[1;33m(\u001B[0m\u001B[0ms1\u001B[0m\u001B[1;33m)\u001B[0m\u001B[1;33m\u001B[0m\u001B[1;33m\u001B[0m\u001B[0m\n",
      "\u001B[1;32mC:\\ProgramData\\Anaconda3\\envs\\rc\\lib\\site-packages\\torch\\__init__.py\u001B[0m in \u001B[0;36m<module>\u001B[1;34m\u001B[0m\n\u001B[0;32m    194\u001B[0m     \u001B[1;32mif\u001B[0m \u001B[0mUSE_GLOBAL_DEPS\u001B[0m\u001B[1;33m:\u001B[0m\u001B[1;33m\u001B[0m\u001B[1;33m\u001B[0m\u001B[0m\n\u001B[0;32m    195\u001B[0m         \u001B[0m_load_global_deps\u001B[0m\u001B[1;33m(\u001B[0m\u001B[1;33m)\u001B[0m\u001B[1;33m\u001B[0m\u001B[1;33m\u001B[0m\u001B[0m\n\u001B[1;32m--> 196\u001B[1;33m     \u001B[1;32mfrom\u001B[0m \u001B[0mtorch\u001B[0m\u001B[1;33m.\u001B[0m\u001B[0m_C\u001B[0m \u001B[1;32mimport\u001B[0m \u001B[1;33m*\u001B[0m\u001B[1;33m\u001B[0m\u001B[1;33m\u001B[0m\u001B[0m\n\u001B[0m\u001B[0;32m    197\u001B[0m \u001B[1;33m\u001B[0m\u001B[0m\n\u001B[0;32m    198\u001B[0m \u001B[1;31m# Appease the type checker; ordinarily this binding is inserted by the\u001B[0m\u001B[1;33m\u001B[0m\u001B[1;33m\u001B[0m\u001B[1;33m\u001B[0m\u001B[0m\n",
      "\u001B[1;31mImportError\u001B[0m: numpy.core.multiarray failed to import"
     ]
    }
   ],
   "source": [
    "#스칼라\n",
    "import torch\n",
    "\n",
    "s1 = torch.tensor([1.])\n",
    "print(s1)\n",
    "\n",
    "s2 = torch.tensor([3.])\n",
    "print(s2)\n",
    "\n",
    "print(s1+s2)\n",
    "print(s1-s2)\n",
    "print(s1*s2)\n",
    "print(s1/s2)\n",
    "\n",
    "print(torch.add(s1,s2))\n",
    "print(torch.sub(s1,s2))\n",
    "print(torch.mul(s1,s2))\n",
    "print(torch.div(s1, s2))"
   ]
  },
  {
   "cell_type": "code",
   "execution_count": 4,
   "outputs": [
    {
     "name": "stdout",
     "output_type": "stream",
     "text": [
      "tensor([5., 7., 9.])\n",
      "tensor([ 4., 10., 18.])\n",
      "tensor([0.2500, 0.4000, 0.5000])\n",
      "tensor(32.)\n"
     ]
    }
   ],
   "source": [
    "#벡터\n",
    "v1 = torch.tensor([1., 2., 3.])\n",
    "v2 = torch.tensor([4.,5.,6.])\n",
    "print(torch.add(v1,v2))\n",
    "print(torch.mul(v1, v2))\n",
    "print(torch.div(v1, v2))\n",
    "print(torch.dot(v1,v2))"
   ],
   "metadata": {
    "collapsed": false,
    "pycharm": {
     "name": "#%%\n"
    }
   }
  },
  {
   "cell_type": "code",
   "execution_count": 5,
   "outputs": [
    {
     "name": "stdout",
     "output_type": "stream",
     "text": [
      "tensor([[ 6.,  8.],\n",
      "        [10., 12.]])\n",
      "tensor([[ 5., 12.],\n",
      "        [21., 32.]])\n",
      "tensor([[0.2000, 0.3333],\n",
      "        [0.4286, 0.5000]])\n",
      "tensor([[19., 22.],\n",
      "        [43., 50.]])\n"
     ]
    }
   ],
   "source": [
    "m1= torch.tensor(([1. ,2.], [3., 4.]))\n",
    "m2= torch.tensor(([5., 6.], [7., 8.]))\n",
    "print(torch.add(m1, m2))\n",
    "print(torch.mul(m1, m2))\n",
    "print(torch.div(m1, m2))\n",
    "print(torch.matmul(m1, m2))"
   ],
   "metadata": {
    "collapsed": false,
    "pycharm": {
     "name": "#%%\n"
    }
   }
  },
  {
   "cell_type": "code",
   "execution_count": 7,
   "outputs": [
    {
     "name": "stdout",
     "output_type": "stream",
     "text": [
      "cpu\n"
     ]
    }
   ],
   "source": [
    "if torch.cuda.is_available() :\n",
    "    DEVICE = torch.device('cuda')\n",
    "    print('cuda')\n",
    "else :\n",
    "    DEVICE = torch.device('cpu')\n",
    "    print('cpu')"
   ],
   "metadata": {
    "collapsed": false,
    "pycharm": {
     "name": "#%%\n"
    }
   }
  },
  {
   "cell_type": "code",
   "execution_count": 8,
   "outputs": [],
   "source": [
    "BATCH_SIZE = 64 #파라미터 업데이트 시 계산되는 데이터 갯수 -> 해당 갯수만큼 결괏값에 대한 오찻값 계산\n",
    "INPUT_SIZE = 1000 #딥러닝 모델에서의 Input의 크기 및 입력층의 노드 수\n",
    "HIDDEN_SIZE = 100 #은닉층의 노드 수\n",
    "OUTPUT_SIZE = 10 #최종 출력 값 벡터 크기"
   ],
   "metadata": {
    "collapsed": false,
    "pycharm": {
     "name": "#%%\n"
    }
   }
  },
  {
   "cell_type": "code",
   "execution_count": 14,
   "outputs": [],
   "source": [
    "# randn : 평균 0, 표준편차 1인 정규분포에서 값 샘플링\n",
    "x = torch.randn(BATCH_SIZE,\n",
    "                INPUT_SIZE,\n",
    "                device = DEVICE,\n",
    "                dtype=torch.float,\n",
    "                requires_grad= False) # 모델의 Gradient 계산의 필요성)\n",
    "\n",
    "y = torch.randn(BATCH_SIZE,\n",
    "                OUTPUT_SIZE,\n",
    "                device = DEVICE,\n",
    "                dtype=torch.float,\n",
    "                requires_grad= False)\n",
    "#업데이트할 파라미터 값\n",
    "w1 = torch.randn(INPUT_SIZE,\n",
    "                HIDDEN_SIZE,\n",
    "                device = DEVICE,\n",
    "                dtype=torch.float,\n",
    "                requires_grad= True)\n",
    "\n",
    "w2 = torch.randn(HIDDEN_SIZE,\n",
    "                OUTPUT_SIZE,\n",
    "                device = DEVICE,\n",
    "                dtype=torch.float,\n",
    "                requires_grad= True)"
   ],
   "metadata": {
    "collapsed": false,
    "pycharm": {
     "name": "#%%\n"
    }
   }
  },
  {
   "cell_type": "code",
   "execution_count": 17,
   "outputs": [
    {
     "name": "stdout",
     "output_type": "stream",
     "text": [
      "Iteration:  100 \t Loss: 608.1271362304688\n",
      "Iteration:  200 \t Loss: 2.117358922958374\n",
      "Iteration:  300 \t Loss: 0.011795291677117348\n",
      "Iteration:  400 \t Loss: 0.00024266699620056897\n",
      "Iteration:  500 \t Loss: 3.8499030779348686e-05\n"
     ]
    }
   ],
   "source": [
    "#파라이터 업데이터 : Gradient 계산 결괏값 * learning_rate -> 을 이용해 업데이트됨.\n",
    "learning_rate = 1e-6\n",
    "for t in range(1, 501) :\n",
    "    y_pred = x.mm(w1).clamp(min=0).mm(w2) #층과 층 사이에 비선형 함수 적용(clamp == ReLU())\n",
    "    loss = (y_pred-y).pow(2).sum() #pow : 지수, pow(2) 제곱을 의미\n",
    "    if t%100 == 0: #100번째마다 Loss 값을 계산\n",
    "        print(\"Iteration: \",t, \"\\t\", \"Loss:\", loss.item())\n",
    "\n",
    "    loss.backward() #계산된 loss값을 사용하여 Back propagation 진행\n",
    "\n",
    "    with torch.no_grad(): #grad 고정하고.\n",
    "        w1 -= learning_rate*w1.grad #빼는 이유? Gradient 값에 대한 반대 방향으로 계산한다\n",
    "        w2 -= learning_rate*w2.grad\n",
    "        # gradient를 이용하여 업데이트 후, gradient 다시 초기화\n",
    "        w1.grad.zero_()\n",
    "        w2.grad.zero_()"
   ],
   "metadata": {
    "collapsed": false,
    "pycharm": {
     "name": "#%%\n"
    }
   }
  },
  {
   "cell_type": "code",
   "execution_count": null,
   "outputs": [],
   "source": [],
   "metadata": {
    "collapsed": false,
    "pycharm": {
     "name": "#%%\n"
    }
   }
  },
  {
   "cell_type": "code",
   "execution_count": null,
   "outputs": [],
   "source": [],
   "metadata": {
    "collapsed": false,
    "pycharm": {
     "name": "#%%\n"
    }
   }
  },
  {
   "cell_type": "code",
   "execution_count": null,
   "outputs": [],
   "source": [],
   "metadata": {
    "collapsed": false,
    "pycharm": {
     "name": "#%%"
    }
   }
  },
  {
   "cell_type": "code",
   "execution_count": null,
   "outputs": [],
   "source": [],
   "metadata": {
    "collapsed": false,
    "pycharm": {
     "name": "#%%\n"
    }
   }
  },
  {
   "cell_type": "code",
   "execution_count": null,
   "outputs": [],
   "source": [],
   "metadata": {
    "collapsed": false,
    "pycharm": {
     "name": "#%%\n"
    }
   }
  }
 ],
 "metadata": {
  "kernelspec": {
   "display_name": "Python 3",
   "language": "python",
   "name": "python3"
  },
  "language_info": {
   "codemirror_mode": {
    "name": "ipython",
    "version": 2
   },
   "file_extension": ".py",
   "mimetype": "text/x-python",
   "name": "python",
   "nbconvert_exporter": "python",
   "pygments_lexer": "ipython2",
   "version": "2.7.6"
  }
 },
 "nbformat": 4,
 "nbformat_minor": 0
}
