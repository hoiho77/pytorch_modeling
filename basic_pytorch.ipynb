{
 "cells": [
  {
   "cell_type": "code",
   "execution_count": 19,
   "metadata": {
    "collapsed": true
   },
   "outputs": [
    {
     "name": "stdout",
     "output_type": "stream",
     "text": [
      "tensor([1.])\n",
      "tensor([3.])\n",
      "tensor([4.])\n",
      "tensor([-2.])\n",
      "tensor([3.])\n",
      "tensor([0.3333])\n",
      "tensor([4.])\n",
      "tensor([-2.])\n",
      "tensor([3.])\n",
      "tensor([0.3333])\n"
     ]
    }
   ],
   "source": [
    "#스칼라\n",
    "import torch\n",
    "\n",
    "s1 = torch.tensor([1.])\n",
    "print(s1)\n",
    "\n",
    "s2 = torch.tensor([3.])\n",
    "print(s2)\n",
    "\n",
    "print(s1+s2)\n",
    "print(s1-s2)\n",
    "print(s1*s2)\n",
    "print(s1/s2)\n",
    "\n",
    "print(torch.add(s1,s2))\n",
    "print(torch.sub(s1,s2))\n",
    "print(torch.mul(s1,s2))\n",
    "print(torch.div(s1, s2))"
   ]
  },
  {
   "cell_type": "code",
   "execution_count": 17,
   "outputs": [
    {
     "name": "stdout",
     "output_type": "stream",
     "text": [
      "tensor([5., 7., 9.])\n",
      "tensor([ 4., 10., 18.])\n",
      "tensor([0.2500, 0.4000, 0.5000])\n",
      "tensor(32.)\n"
     ]
    }
   ],
   "source": [
    "#벡터\n",
    "v1 = torch.tensor([1., 2., 3.])\n",
    "v2 = torch.tensor([4.,5.,6.])\n",
    "print(torch.add(v1,v2))\n",
    "print(torch.mul(v1, v2))\n",
    "print(torch.div(v1, v2))\n",
    "print(torch.dot(v1,v2))"
   ],
   "metadata": {
    "collapsed": false,
    "pycharm": {
     "name": "#%%\n"
    }
   }
  },
  {
   "cell_type": "code",
   "execution_count": 23,
   "outputs": [
    {
     "name": "stdout",
     "output_type": "stream",
     "text": [
      "tensor([[ 6.,  8.],\n",
      "        [10., 12.]])\n",
      "tensor([[ 5., 12.],\n",
      "        [21., 32.]])\n",
      "tensor([[0.2000, 0.3333],\n",
      "        [0.4286, 0.5000]])\n",
      "tensor([[19., 22.],\n",
      "        [43., 50.]])\n"
     ]
    }
   ],
   "source": [
    "m1= torch.tensor(([1. ,2.], [3., 4.]))\n",
    "m2= torch.tensor(([5., 6.], [7., 8.]))\n",
    "print(torch.add(m1, m2))\n",
    "print(torch.mul(m1, m2))\n",
    "print(torch.div(m1, m2))\n",
    "print(torch.matmul(m1, m2))"
   ],
   "metadata": {
    "collapsed": false,
    "pycharm": {
     "name": "#%%\n"
    }
   }
  },
  {
   "cell_type": "code",
   "execution_count": null,
   "outputs": [],
   "source": [],
   "metadata": {
    "collapsed": false,
    "pycharm": {
     "name": "#%%\n"
    }
   }
  }
 ],
 "metadata": {
  "kernelspec": {
   "display_name": "Python 3",
   "language": "python",
   "name": "python3"
  },
  "language_info": {
   "codemirror_mode": {
    "name": "ipython",
    "version": 2
   },
   "file_extension": ".py",
   "mimetype": "text/x-python",
   "name": "python",
   "nbconvert_exporter": "python",
   "pygments_lexer": "ipython2",
   "version": "2.7.6"
  }
 },
 "nbformat": 4,
 "nbformat_minor": 0
}